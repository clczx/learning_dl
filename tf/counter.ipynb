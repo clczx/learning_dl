{
 "cells": [
  {
   "cell_type": "code",
   "execution_count": 33,
   "metadata": {
    "collapsed": true
   },
   "outputs": [],
   "source": [
    "import numpy as np\n",
    "import tensorflow as tf"
   ]
  },
  {
   "cell_type": "code",
   "execution_count": 34,
   "metadata": {
    "collapsed": true
   },
   "outputs": [],
   "source": [
    "\n",
    "inputvals  = [[0, 0, 0], [0, 0, 1], [0, 1, 0], [0, 1, 1], [1, 0, 0], [1, 0, 1],\n",
    "              [1, 1, 0], [1, 1, 1]]\n",
    "targetvals = [[0, 0, 1], [0, 1, 0], [0, 1, 1], [1, 0, 0], [1, 0, 1], [1, 1, 0],\n",
    "              [1, 1, 1], [0, 0, 0]]\n",
    "\n",
    "testinputs  = [[0, 1, 0], [0, 1, 1], [0, 0, 1], [1, 1, 1], [1, 0, 1],\n",
    "               [1, 0, 0], [0, 0, 0], [1, 1, 0]]\n",
    "testtargets = [[0, 1, 1], [1, 0, 0], [0, 1, 0], [0, 0, 0], [1, 1, 0],\n",
    "               [1, 0, 1], [0, 0, 1], [1, 1, 1]]\n",
    "\n",
    "num_inputs = 3\n",
    "num_hiddens = 5\n",
    "num_outputs = 3\n",
    "\n",
    "dataset = tf.placeholder(tf.float32, shape=[None, num_inputs])\n",
    "labels = tf.placeholder(tf.float32, shape=[None, num_outputs])\n"
   ]
  },
  {
   "cell_type": "code",
   "execution_count": 35,
   "metadata": {
    "collapsed": false
   },
   "outputs": [],
   "source": [
    "w_fc1 = tf.Variable(tf.truncated_normal([num_inputs, num_hiddens], 0.0, 1.0))\n",
    "b_fc1 = tf.Variable(tf.truncated_normal([num_hiddens], 0.0, 1.0))\n",
    "h_fc1 = tf.nn.relu(tf.matmul(dataset, w_fc1) + b_fc1)\n",
    "\n",
    "w_fc2 = tf.Variable(tf.truncated_normal([num_hiddens, num_outputs], 0.0, 1.0))\n",
    "b_fc2 = tf.Variable(tf.truncated_normal([num_outputs], 0.0, 1.0))\n",
    "\n",
    "y = tf.matmul(h_fc1, w_fc2) + b_fc2\n"
   ]
  },
  {
   "cell_type": "code",
   "execution_count": 36,
   "metadata": {
    "collapsed": false
   },
   "outputs": [
    {
     "name": "stdout",
     "output_type": "stream",
     "text": [
      "0 0.669408\n",
      "1000 0.571268\n",
      "2000 0.402815\n",
      "3000 0.25056\n",
      "4000 0.17033\n",
      "5000 0.123866\n",
      "6000 0.0859194\n",
      "7000 0.0573583\n",
      "8000 0.041371\n",
      "9000 0.0308091\n",
      "[[  2.07872596e-02   9.70207632e-01   9.93233383e-01]\n",
      " [  9.18783247e-01   3.43585569e-08   3.15695470e-05]\n",
      " [  5.73312268e-02   9.95200872e-01   4.34351296e-06]\n",
      " [  9.72008109e-02   1.56605691e-02   4.69514262e-03]\n",
      " [  9.39312160e-01   9.92303669e-01   4.13885107e-03]\n",
      " [  9.99991894e-01   7.02076708e-04   9.99530554e-01]\n",
      " [  6.17432371e-02   4.64393832e-02   9.84678745e-01]\n",
      " [  9.86704707e-01   9.85307217e-01   9.99857545e-01]]\n"
     ]
    }
   ],
   "source": [
    "cross_entropy = tf.reduce_mean(\n",
    "      tf.nn.sigmoid_cross_entropy_with_logits(logits=y, targets=labels))\n",
    "train_step = tf.train.RMSPropOptimizer(0.25, momentum=0.5).minimize(cross_entropy)\n",
    "train_adaelta = tf.train.AdadeltaOptimizer(0.25).minimize(cross_entropy)\n",
    "train_adam = tf.train.AdamOptimizer(0.25).minimize(cross_entropy)\n",
    "prediect = tf.sigmoid(y)\n",
    "\n",
    "with tf.Session() as sess:\n",
    "    sess.run(tf.global_variables_initializer())\n",
    "    for i in range(10000):\n",
    "        loss = cross_entropy.eval(feed_dict={dataset: inputvals, labels:targetvals})\n",
    "        if i % 1000 == 0:\n",
    "            print i, loss\n",
    "        if loss < 1e-5:\n",
    "            print i, loss\n",
    "            break\n",
    "        sess.run([train_adam], feed_dict={dataset: inputvals, labels:targetvals}) \n",
    "    print sess.run(prediect, feed_dict={dataset: testinputs})    \n",
    "                                             "
   ]
  }
 ],
 "metadata": {
  "kernelspec": {
   "display_name": "Python 2",
   "language": "python",
   "name": "python2"
  },
  "language_info": {
   "codemirror_mode": {
    "name": "ipython",
    "version": 2
   },
   "file_extension": ".py",
   "mimetype": "text/x-python",
   "name": "python",
   "nbconvert_exporter": "python",
   "pygments_lexer": "ipython2",
   "version": "2.7.13"
  }
 },
 "nbformat": 4,
 "nbformat_minor": 2
}
